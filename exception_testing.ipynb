{
 "cells": [
  {
   "cell_type": "code",
   "execution_count": 1,
   "metadata": {},
   "outputs": [],
   "source": [
    "import pandas as pd\n",
    "from datetime import timedelta"
   ]
  },
  {
   "cell_type": "code",
   "execution_count": 2,
   "metadata": {},
   "outputs": [],
   "source": [
    "time_column = \"Date\"\n",
    "window_size = 2"
   ]
  },
  {
   "cell_type": "code",
   "execution_count": 3,
   "metadata": {},
   "outputs": [],
   "source": [
    "trading_df = pd.read_csv(\"datasets/EURUSD/15m.csv\", nrows=2000).drop([\"Volume\"], axis=1)\n",
    "trading_df[\"Date\"] = pd.to_datetime(trading_df[\"Date\"], dayfirst=True)\n",
    "query_df = pd.read_csv(\"datasets/EURUSD/1h.csv\", nrows=1000).drop([\"Volume\"], axis=1)\n",
    "query_df[\"Date\"] = pd.to_datetime(query_df[\"Date\"], dayfirst=True)"
   ]
  },
  {
   "cell_type": "code",
   "execution_count": 6,
   "metadata": {},
   "outputs": [
    {
     "data": {
      "text/plain": [
       "array([Timestamp('2023-09-20 00:30:00'), 1.06836, 1.06859, 1.06825,\n",
       "       1.06837], dtype=object)"
      ]
     },
     "execution_count": 6,
     "metadata": {},
     "output_type": "execute_result"
    }
   ],
   "source": [
    "trading_df.iloc[2].to_numpy()"
   ]
  },
  {
   "cell_type": "code",
   "execution_count": 4,
   "metadata": {},
   "outputs": [
    {
     "data": {
      "text/html": [
       "<div>\n",
       "<style scoped>\n",
       "    .dataframe tbody tr th:only-of-type {\n",
       "        vertical-align: middle;\n",
       "    }\n",
       "\n",
       "    .dataframe tbody tr th {\n",
       "        vertical-align: top;\n",
       "    }\n",
       "\n",
       "    .dataframe thead th {\n",
       "        text-align: right;\n",
       "    }\n",
       "</style>\n",
       "<table border=\"1\" class=\"dataframe\">\n",
       "  <thead>\n",
       "    <tr style=\"text-align: right;\">\n",
       "      <th></th>\n",
       "      <th>Date</th>\n",
       "      <th>Open</th>\n",
       "      <th>High</th>\n",
       "      <th>Low</th>\n",
       "      <th>Close</th>\n",
       "    </tr>\n",
       "  </thead>\n",
       "  <tbody>\n",
       "    <tr>\n",
       "      <th>828</th>\n",
       "      <td>2023-10-02 15:00:00</td>\n",
       "      <td>1.04956</td>\n",
       "      <td>1.05065</td>\n",
       "      <td>1.04956</td>\n",
       "      <td>1.05049</td>\n",
       "    </tr>\n",
       "    <tr>\n",
       "      <th>1332</th>\n",
       "      <td>2023-10-09 21:00:00</td>\n",
       "      <td>1.05679</td>\n",
       "      <td>1.05683</td>\n",
       "      <td>1.05650</td>\n",
       "      <td>1.05670</td>\n",
       "    </tr>\n",
       "    <tr>\n",
       "      <th>678</th>\n",
       "      <td>2023-09-29 01:30:00</td>\n",
       "      <td>1.05702</td>\n",
       "      <td>1.05728</td>\n",
       "      <td>1.05694</td>\n",
       "      <td>1.05708</td>\n",
       "    </tr>\n",
       "    <tr>\n",
       "      <th>1215</th>\n",
       "      <td>2023-10-06 15:45:00</td>\n",
       "      <td>1.05934</td>\n",
       "      <td>1.05996</td>\n",
       "      <td>1.05877</td>\n",
       "      <td>1.05949</td>\n",
       "    </tr>\n",
       "    <tr>\n",
       "      <th>82</th>\n",
       "      <td>2023-09-20 20:30:00</td>\n",
       "      <td>1.06614</td>\n",
       "      <td>1.06625</td>\n",
       "      <td>1.06598</td>\n",
       "      <td>1.06600</td>\n",
       "    </tr>\n",
       "    <tr>\n",
       "      <th>...</th>\n",
       "      <td>...</td>\n",
       "      <td>...</td>\n",
       "      <td>...</td>\n",
       "      <td>...</td>\n",
       "      <td>...</td>\n",
       "    </tr>\n",
       "    <tr>\n",
       "      <th>488</th>\n",
       "      <td>2023-09-27 02:00:00</td>\n",
       "      <td>1.05698</td>\n",
       "      <td>1.05699</td>\n",
       "      <td>1.05638</td>\n",
       "      <td>1.05639</td>\n",
       "    </tr>\n",
       "    <tr>\n",
       "      <th>126</th>\n",
       "      <td>2023-09-21 07:30:00</td>\n",
       "      <td>1.06445</td>\n",
       "      <td>1.06573</td>\n",
       "      <td>1.06394</td>\n",
       "      <td>1.06469</td>\n",
       "    </tr>\n",
       "    <tr>\n",
       "      <th>1971</th>\n",
       "      <td>2023-10-18 12:45:00</td>\n",
       "      <td>1.05559</td>\n",
       "      <td>1.05578</td>\n",
       "      <td>1.05493</td>\n",
       "      <td>1.05572</td>\n",
       "    </tr>\n",
       "    <tr>\n",
       "      <th>87</th>\n",
       "      <td>2023-09-20 21:45:00</td>\n",
       "      <td>1.06637</td>\n",
       "      <td>1.06654</td>\n",
       "      <td>1.06632</td>\n",
       "      <td>1.06649</td>\n",
       "    </tr>\n",
       "    <tr>\n",
       "      <th>174</th>\n",
       "      <td>2023-09-21 19:30:00</td>\n",
       "      <td>1.06642</td>\n",
       "      <td>1.06654</td>\n",
       "      <td>1.06615</td>\n",
       "      <td>1.06639</td>\n",
       "    </tr>\n",
       "  </tbody>\n",
       "</table>\n",
       "<p>100 rows × 5 columns</p>\n",
       "</div>"
      ],
      "text/plain": [
       "                    Date     Open     High      Low    Close\n",
       "828  2023-10-02 15:00:00  1.04956  1.05065  1.04956  1.05049\n",
       "1332 2023-10-09 21:00:00  1.05679  1.05683  1.05650  1.05670\n",
       "678  2023-09-29 01:30:00  1.05702  1.05728  1.05694  1.05708\n",
       "1215 2023-10-06 15:45:00  1.05934  1.05996  1.05877  1.05949\n",
       "82   2023-09-20 20:30:00  1.06614  1.06625  1.06598  1.06600\n",
       "...                  ...      ...      ...      ...      ...\n",
       "488  2023-09-27 02:00:00  1.05698  1.05699  1.05638  1.05639\n",
       "126  2023-09-21 07:30:00  1.06445  1.06573  1.06394  1.06469\n",
       "1971 2023-10-18 12:45:00  1.05559  1.05578  1.05493  1.05572\n",
       "87   2023-09-20 21:45:00  1.06637  1.06654  1.06632  1.06649\n",
       "174  2023-09-21 19:30:00  1.06642  1.06654  1.06615  1.06639\n",
       "\n",
       "[100 rows x 5 columns]"
      ]
     },
     "execution_count": 4,
     "metadata": {},
     "output_type": "execute_result"
    }
   ],
   "source": [
    "trading_df.sample(100)"
   ]
  },
  {
   "cell_type": "code",
   "execution_count": 30,
   "metadata": {},
   "outputs": [
    {
     "data": {
      "text/html": [
       "<div>\n",
       "<style scoped>\n",
       "    .dataframe tbody tr th:only-of-type {\n",
       "        vertical-align: middle;\n",
       "    }\n",
       "\n",
       "    .dataframe tbody tr th {\n",
       "        vertical-align: top;\n",
       "    }\n",
       "\n",
       "    .dataframe thead th {\n",
       "        text-align: right;\n",
       "    }\n",
       "</style>\n",
       "<table border=\"1\" class=\"dataframe\">\n",
       "  <thead>\n",
       "    <tr style=\"text-align: right;\">\n",
       "      <th></th>\n",
       "      <th>Date</th>\n",
       "      <th>Open_0</th>\n",
       "      <th>High_0</th>\n",
       "      <th>Low_0</th>\n",
       "      <th>Close_0</th>\n",
       "      <th>Open_1</th>\n",
       "      <th>High_1</th>\n",
       "      <th>Low_1</th>\n",
       "      <th>Close_1</th>\n",
       "    </tr>\n",
       "  </thead>\n",
       "  <tbody>\n",
       "    <tr>\n",
       "      <th>0</th>\n",
       "      <td>2023-09-20 00:00:00</td>\n",
       "      <td>1.06817</td>\n",
       "      <td>1.06860</td>\n",
       "      <td>1.06795</td>\n",
       "      <td>1.06850</td>\n",
       "      <td>NaN</td>\n",
       "      <td>NaN</td>\n",
       "      <td>NaN</td>\n",
       "      <td>NaN</td>\n",
       "    </tr>\n",
       "    <tr>\n",
       "      <th>1</th>\n",
       "      <td>2023-09-20 01:00:00</td>\n",
       "      <td>1.06850</td>\n",
       "      <td>1.06877</td>\n",
       "      <td>1.06802</td>\n",
       "      <td>1.06864</td>\n",
       "      <td>1.06817</td>\n",
       "      <td>1.06860</td>\n",
       "      <td>1.06795</td>\n",
       "      <td>1.06850</td>\n",
       "    </tr>\n",
       "    <tr>\n",
       "      <th>2</th>\n",
       "      <td>2023-09-20 02:00:00</td>\n",
       "      <td>1.06865</td>\n",
       "      <td>1.06899</td>\n",
       "      <td>1.06829</td>\n",
       "      <td>1.06832</td>\n",
       "      <td>1.06850</td>\n",
       "      <td>1.06877</td>\n",
       "      <td>1.06802</td>\n",
       "      <td>1.06864</td>\n",
       "    </tr>\n",
       "    <tr>\n",
       "      <th>3</th>\n",
       "      <td>2023-09-20 03:00:00</td>\n",
       "      <td>1.06830</td>\n",
       "      <td>1.06844</td>\n",
       "      <td>1.06784</td>\n",
       "      <td>1.06797</td>\n",
       "      <td>1.06865</td>\n",
       "      <td>1.06899</td>\n",
       "      <td>1.06829</td>\n",
       "      <td>1.06832</td>\n",
       "    </tr>\n",
       "    <tr>\n",
       "      <th>4</th>\n",
       "      <td>2023-09-20 04:00:00</td>\n",
       "      <td>1.06797</td>\n",
       "      <td>1.06813</td>\n",
       "      <td>1.06784</td>\n",
       "      <td>1.06788</td>\n",
       "      <td>1.06830</td>\n",
       "      <td>1.06844</td>\n",
       "      <td>1.06784</td>\n",
       "      <td>1.06797</td>\n",
       "    </tr>\n",
       "  </tbody>\n",
       "</table>\n",
       "</div>"
      ],
      "text/plain": [
       "                 Date   Open_0   High_0    Low_0  Close_0   Open_1   High_1  \\\n",
       "0 2023-09-20 00:00:00  1.06817  1.06860  1.06795  1.06850      NaN      NaN   \n",
       "1 2023-09-20 01:00:00  1.06850  1.06877  1.06802  1.06864  1.06817  1.06860   \n",
       "2 2023-09-20 02:00:00  1.06865  1.06899  1.06829  1.06832  1.06850  1.06877   \n",
       "3 2023-09-20 03:00:00  1.06830  1.06844  1.06784  1.06797  1.06865  1.06899   \n",
       "4 2023-09-20 04:00:00  1.06797  1.06813  1.06784  1.06788  1.06830  1.06844   \n",
       "\n",
       "     Low_1  Close_1  \n",
       "0      NaN      NaN  \n",
       "1  1.06795  1.06850  \n",
       "2  1.06802  1.06864  \n",
       "3  1.06829  1.06832  \n",
       "4  1.06784  1.06797  "
      ]
     },
     "execution_count": 30,
     "metadata": {},
     "output_type": "execute_result"
    }
   ],
   "source": [
    "stacked = pd.concat([query_df.drop([time_column], axis=1).add_suffix(f\"_{shift}\").shift(shift) for shift in range(window_size)], axis=1)\n",
    "stacked = pd.concat([query_df[time_column], stacked], axis=1)\n",
    "stacked.head()"
   ]
  },
  {
   "cell_type": "code",
   "execution_count": 31,
   "metadata": {},
   "outputs": [
    {
     "data": {
      "text/html": [
       "<div>\n",
       "<style scoped>\n",
       "    .dataframe tbody tr th:only-of-type {\n",
       "        vertical-align: middle;\n",
       "    }\n",
       "\n",
       "    .dataframe tbody tr th {\n",
       "        vertical-align: top;\n",
       "    }\n",
       "\n",
       "    .dataframe thead th {\n",
       "        text-align: right;\n",
       "    }\n",
       "</style>\n",
       "<table border=\"1\" class=\"dataframe\">\n",
       "  <thead>\n",
       "    <tr style=\"text-align: right;\">\n",
       "      <th></th>\n",
       "      <th>Date</th>\n",
       "      <th>Open</th>\n",
       "      <th>High</th>\n",
       "      <th>Low</th>\n",
       "      <th>Close</th>\n",
       "    </tr>\n",
       "  </thead>\n",
       "  <tbody>\n",
       "    <tr>\n",
       "      <th>0</th>\n",
       "      <td>2023-09-20 00:00:00</td>\n",
       "      <td>1.06817</td>\n",
       "      <td>1.06839</td>\n",
       "      <td>1.06795</td>\n",
       "      <td>1.06801</td>\n",
       "    </tr>\n",
       "    <tr>\n",
       "      <th>1</th>\n",
       "      <td>2023-09-20 00:00:00</td>\n",
       "      <td>1.06801</td>\n",
       "      <td>1.06838</td>\n",
       "      <td>1.06801</td>\n",
       "      <td>1.06835</td>\n",
       "    </tr>\n",
       "    <tr>\n",
       "      <th>2</th>\n",
       "      <td>2023-09-20 00:00:00</td>\n",
       "      <td>1.06836</td>\n",
       "      <td>1.06859</td>\n",
       "      <td>1.06825</td>\n",
       "      <td>1.06837</td>\n",
       "    </tr>\n",
       "    <tr>\n",
       "      <th>3</th>\n",
       "      <td>2023-09-20 00:00:00</td>\n",
       "      <td>1.06838</td>\n",
       "      <td>1.06860</td>\n",
       "      <td>1.06835</td>\n",
       "      <td>1.06850</td>\n",
       "    </tr>\n",
       "    <tr>\n",
       "      <th>4</th>\n",
       "      <td>2023-09-20 01:00:00</td>\n",
       "      <td>1.06850</td>\n",
       "      <td>1.06863</td>\n",
       "      <td>1.06834</td>\n",
       "      <td>1.06851</td>\n",
       "    </tr>\n",
       "  </tbody>\n",
       "</table>\n",
       "</div>"
      ],
      "text/plain": [
       "                 Date     Open     High      Low    Close\n",
       "0 2023-09-20 00:00:00  1.06817  1.06839  1.06795  1.06801\n",
       "1 2023-09-20 00:00:00  1.06801  1.06838  1.06801  1.06835\n",
       "2 2023-09-20 00:00:00  1.06836  1.06859  1.06825  1.06837\n",
       "3 2023-09-20 00:00:00  1.06838  1.06860  1.06835  1.06850\n",
       "4 2023-09-20 01:00:00  1.06850  1.06863  1.06834  1.06851"
      ]
     },
     "execution_count": 31,
     "metadata": {},
     "output_type": "execute_result"
    }
   ],
   "source": [
    "concat_trading = trading_df.copy()\n",
    "concat_trading[time_column] = concat_trading[time_column].dt.floor(timedelta(hours=1))\n",
    "concat_trading.head()"
   ]
  },
  {
   "cell_type": "code",
   "execution_count": 40,
   "metadata": {},
   "outputs": [
    {
     "data": {
      "text/html": [
       "<div>\n",
       "<style scoped>\n",
       "    .dataframe tbody tr th:only-of-type {\n",
       "        vertical-align: middle;\n",
       "    }\n",
       "\n",
       "    .dataframe tbody tr th {\n",
       "        vertical-align: top;\n",
       "    }\n",
       "\n",
       "    .dataframe thead th {\n",
       "        text-align: right;\n",
       "    }\n",
       "</style>\n",
       "<table border=\"1\" class=\"dataframe\">\n",
       "  <thead>\n",
       "    <tr style=\"text-align: right;\">\n",
       "      <th></th>\n",
       "      <th>Date</th>\n",
       "      <th>Open_0</th>\n",
       "      <th>High_0</th>\n",
       "      <th>Low_0</th>\n",
       "      <th>Close_0</th>\n",
       "      <th>Open_1</th>\n",
       "      <th>High_1</th>\n",
       "      <th>Low_1</th>\n",
       "      <th>Close_1</th>\n",
       "    </tr>\n",
       "  </thead>\n",
       "  <tbody>\n",
       "    <tr>\n",
       "      <th>0</th>\n",
       "      <td>2023-09-20 00:00:00</td>\n",
       "      <td>1.06817</td>\n",
       "      <td>1.06860</td>\n",
       "      <td>1.06795</td>\n",
       "      <td>1.06850</td>\n",
       "      <td>NaN</td>\n",
       "      <td>NaN</td>\n",
       "      <td>NaN</td>\n",
       "      <td>NaN</td>\n",
       "    </tr>\n",
       "    <tr>\n",
       "      <th>1</th>\n",
       "      <td>2023-09-20 00:00:00</td>\n",
       "      <td>1.06817</td>\n",
       "      <td>1.06860</td>\n",
       "      <td>1.06795</td>\n",
       "      <td>1.06850</td>\n",
       "      <td>NaN</td>\n",
       "      <td>NaN</td>\n",
       "      <td>NaN</td>\n",
       "      <td>NaN</td>\n",
       "    </tr>\n",
       "    <tr>\n",
       "      <th>2</th>\n",
       "      <td>2023-09-20 00:00:00</td>\n",
       "      <td>1.06817</td>\n",
       "      <td>1.06860</td>\n",
       "      <td>1.06795</td>\n",
       "      <td>1.06850</td>\n",
       "      <td>NaN</td>\n",
       "      <td>NaN</td>\n",
       "      <td>NaN</td>\n",
       "      <td>NaN</td>\n",
       "    </tr>\n",
       "    <tr>\n",
       "      <th>3</th>\n",
       "      <td>2023-09-20 00:00:00</td>\n",
       "      <td>1.06817</td>\n",
       "      <td>1.06860</td>\n",
       "      <td>1.06795</td>\n",
       "      <td>1.06850</td>\n",
       "      <td>NaN</td>\n",
       "      <td>NaN</td>\n",
       "      <td>NaN</td>\n",
       "      <td>NaN</td>\n",
       "    </tr>\n",
       "    <tr>\n",
       "      <th>4</th>\n",
       "      <td>2023-09-20 01:00:00</td>\n",
       "      <td>1.06850</td>\n",
       "      <td>1.06877</td>\n",
       "      <td>1.06802</td>\n",
       "      <td>1.06864</td>\n",
       "      <td>1.06817</td>\n",
       "      <td>1.0686</td>\n",
       "      <td>1.06795</td>\n",
       "      <td>1.0685</td>\n",
       "    </tr>\n",
       "  </tbody>\n",
       "</table>\n",
       "</div>"
      ],
      "text/plain": [
       "                 Date   Open_0   High_0    Low_0  Close_0   Open_1  High_1  \\\n",
       "0 2023-09-20 00:00:00  1.06817  1.06860  1.06795  1.06850      NaN     NaN   \n",
       "1 2023-09-20 00:00:00  1.06817  1.06860  1.06795  1.06850      NaN     NaN   \n",
       "2 2023-09-20 00:00:00  1.06817  1.06860  1.06795  1.06850      NaN     NaN   \n",
       "3 2023-09-20 00:00:00  1.06817  1.06860  1.06795  1.06850      NaN     NaN   \n",
       "4 2023-09-20 01:00:00  1.06850  1.06877  1.06802  1.06864  1.06817  1.0686   \n",
       "\n",
       "     Low_1  Close_1  \n",
       "0      NaN      NaN  \n",
       "1      NaN      NaN  \n",
       "2      NaN      NaN  \n",
       "3      NaN      NaN  \n",
       "4  1.06795   1.0685  "
      ]
     },
     "execution_count": 40,
     "metadata": {},
     "output_type": "execute_result"
    }
   ],
   "source": [
    "pd.merge(concat_trading[time_column], stacked, on=time_column, how='outer').head()"
   ]
  },
  {
   "cell_type": "code",
   "execution_count": 44,
   "metadata": {},
   "outputs": [
    {
     "data": {
      "text/plain": [
       "Close_0    1.0685\n",
       "Close_1       NaN\n",
       "Name: 0, dtype: object"
      ]
     },
     "execution_count": 44,
     "metadata": {},
     "output_type": "execute_result"
    }
   ],
   "source": [
    "stacked.iloc[0][[\"Close_0\", \"Close_1\"]]"
   ]
  },
  {
   "cell_type": "code",
   "execution_count": 15,
   "metadata": {},
   "outputs": [],
   "source": [
    "df = pd.DataFrame()"
   ]
  },
  {
   "cell_type": "code",
   "execution_count": 37,
   "metadata": {},
   "outputs": [
    {
     "data": {
      "text/html": [
       "<div>\n",
       "<style scoped>\n",
       "    .dataframe tbody tr th:only-of-type {\n",
       "        vertical-align: middle;\n",
       "    }\n",
       "\n",
       "    .dataframe tbody tr th {\n",
       "        vertical-align: top;\n",
       "    }\n",
       "\n",
       "    .dataframe thead th {\n",
       "        text-align: right;\n",
       "    }\n",
       "</style>\n",
       "<table border=\"1\" class=\"dataframe\">\n",
       "  <thead>\n",
       "    <tr style=\"text-align: right;\">\n",
       "      <th></th>\n",
       "      <th>date</th>\n",
       "      <th>value1</th>\n",
       "      <th>value2</th>\n",
       "    </tr>\n",
       "  </thead>\n",
       "  <tbody>\n",
       "    <tr>\n",
       "      <th>0</th>\n",
       "      <td>2022-01-01</td>\n",
       "      <td>1</td>\n",
       "      <td>4</td>\n",
       "    </tr>\n",
       "    <tr>\n",
       "      <th>1</th>\n",
       "      <td>2022-01-01</td>\n",
       "      <td>1</td>\n",
       "      <td>5</td>\n",
       "    </tr>\n",
       "    <tr>\n",
       "      <th>2</th>\n",
       "      <td>2022-01-02</td>\n",
       "      <td>2</td>\n",
       "      <td>6</td>\n",
       "    </tr>\n",
       "    <tr>\n",
       "      <th>3</th>\n",
       "      <td>2022-01-02</td>\n",
       "      <td>2</td>\n",
       "      <td>7</td>\n",
       "    </tr>\n",
       "    <tr>\n",
       "      <th>4</th>\n",
       "      <td>2022-01-03</td>\n",
       "      <td>3</td>\n",
       "      <td>8</td>\n",
       "    </tr>\n",
       "  </tbody>\n",
       "</table>\n",
       "</div>"
      ],
      "text/plain": [
       "         date  value1  value2\n",
       "0  2022-01-01       1       4\n",
       "1  2022-01-01       1       5\n",
       "2  2022-01-02       2       6\n",
       "3  2022-01-02       2       7\n",
       "4  2022-01-03       3       8"
      ]
     },
     "execution_count": 37,
     "metadata": {},
     "output_type": "execute_result"
    }
   ],
   "source": [
    "# create two sample dataframes\n",
    "df1 = pd.DataFrame({'date': ['2022-01-01', '2022-01-02', '2022-01-03'],\n",
    "                    'value1': [1, 2, 3]})\n",
    "\n",
    "df2 = pd.DataFrame({'date': ['2022-01-01', '2022-01-01', '2022-01-02', '2022-01-02', '2022-01-03'],\n",
    "                    'value2': [4, 5, 6, 7, 8]})\n",
    "\n",
    "# merge the two dataframes on the 'date' column\n",
    "merged_df = pd.merge(df1, df2, on='date', how='outer')\n",
    "merged_df.head()"
   ]
  },
  {
   "cell_type": "code",
   "execution_count": 2,
   "metadata": {},
   "outputs": [
    {
     "ename": "ModuleNotFoundError",
     "evalue": "No module named 'utils'",
     "output_type": "error",
     "traceback": [
      "\u001b[1;31m---------------------------------------------------------------------------\u001b[0m",
      "\u001b[1;31mModuleNotFoundError\u001b[0m                       Traceback (most recent call last)",
      "Cell \u001b[1;32mIn[2], line 1\u001b[0m\n\u001b[1;32m----> 1\u001b[0m \u001b[38;5;28;01mimport\u001b[39;00m \u001b[38;5;21;01mutils\u001b[39;00m\n",
      "\u001b[1;31mModuleNotFoundError\u001b[0m: No module named 'utils'"
     ]
    }
   ],
   "source": [
    "import utils"
   ]
  },
  {
   "cell_type": "code",
   "execution_count": 11,
   "metadata": {},
   "outputs": [
    {
     "data": {
      "text/plain": [
       "('3', 3)"
      ]
     },
     "execution_count": 11,
     "metadata": {},
     "output_type": "execute_result"
    }
   ],
   "source": [
    "from random import choice\n",
    "ds = {\"1\": 1, \"2\": 2, \"3\": 3}\n",
    "a, b = choice(list(ds.items()))\n",
    "a, b"
   ]
  },
  {
   "cell_type": "code",
   "execution_count": 15,
   "metadata": {},
   "outputs": [
    {
     "data": {
      "text/plain": [
       "[-2, -1, 0, 1, 2]"
      ]
     },
     "execution_count": 15,
     "metadata": {},
     "output_type": "execute_result"
    }
   ],
   "source": [
    "max_length = 2\n",
    "\n",
    "list(range(-max_length, max_length + 1))"
   ]
  }
 ],
 "metadata": {
  "kernelspec": {
   "display_name": "ml",
   "language": "python",
   "name": "python3"
  },
  "language_info": {
   "codemirror_mode": {
    "name": "ipython",
    "version": 3
   },
   "file_extension": ".py",
   "mimetype": "text/x-python",
   "name": "python",
   "nbconvert_exporter": "python",
   "pygments_lexer": "ipython3",
   "version": "3.11.4"
  }
 },
 "nbformat": 4,
 "nbformat_minor": 2
}
