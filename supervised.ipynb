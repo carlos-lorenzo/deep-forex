{
 "cells": [
  {
   "cell_type": "code",
   "execution_count": 1,
   "metadata": {},
   "outputs": [],
   "source": [
    "import pandas as pd\n",
    "import numpy as np\n",
    "import matplotlib.pyplot as plt\n",
    "\n",
    "from sklearn.model_selection import train_test_split\n",
    "from sklearn.metrics import accuracy_score\n",
    "\n",
    "import torch as th\n",
    "import torch.nn as nn"
   ]
  },
  {
   "cell_type": "code",
   "execution_count": 2,
   "metadata": {},
   "outputs": [],
   "source": [
    "device = th.device(\"cuda\" if th.cuda.is_available() else \"cpu\")"
   ]
  },
  {
   "cell_type": "code",
   "execution_count": 3,
   "metadata": {},
   "outputs": [],
   "source": [
    "class Network(nn.Module):\n",
    "    def __init__(self, n_inputs: int, n_outputs: int, hidden_size: int = 128, n_layers: int = 2):\n",
    "        super().__init__()\n",
    "        \n",
    "        self.layers = nn.Sequential(\n",
    "            nn.Linear(n_inputs, hidden_size),\n",
    "            *[\n",
    "                nn.ReLU() if i % 2 == 0 else nn.Linear(hidden_size, hidden_size) for i in range(n_layers*2)\n",
    "            ],\n",
    "            nn.ReLU(),\n",
    "            nn.Linear(hidden_size, n_outputs),\n",
    "        )\n",
    "        self.softmax = nn.Softmax(dim=1)\n",
    "\n",
    "    def forward(self, x: th.Tensor) -> th.Tensor:\n",
    "        return self.softmax(self.layers(x))"
   ]
  },
  {
   "cell_type": "code",
   "execution_count": 4,
   "metadata": {},
   "outputs": [],
   "source": [
    "batch_size = 64"
   ]
  },
  {
   "cell_type": "code",
   "execution_count": 5,
   "metadata": {},
   "outputs": [
    {
     "data": {
      "text/html": [
       "<div>\n",
       "<style scoped>\n",
       "    .dataframe tbody tr th:only-of-type {\n",
       "        vertical-align: middle;\n",
       "    }\n",
       "\n",
       "    .dataframe tbody tr th {\n",
       "        vertical-align: top;\n",
       "    }\n",
       "\n",
       "    .dataframe thead th {\n",
       "        text-align: right;\n",
       "    }\n",
       "</style>\n",
       "<table border=\"1\" class=\"dataframe\">\n",
       "  <thead>\n",
       "    <tr style=\"text-align: right;\">\n",
       "      <th></th>\n",
       "      <th>Date</th>\n",
       "      <th>Trading_Price</th>\n",
       "      <th>1H_x1_0</th>\n",
       "      <th>1H_x2_0</th>\n",
       "      <th>1H_x3_0</th>\n",
       "      <th>1H_x4_0</th>\n",
       "      <th>1H_x5_0</th>\n",
       "      <th>1H_x1_1</th>\n",
       "      <th>1H_x2_1</th>\n",
       "      <th>1H_x3_1</th>\n",
       "      <th>...</th>\n",
       "      <th>15m_x2_14</th>\n",
       "      <th>15m_x3_14</th>\n",
       "      <th>15m_x4_14</th>\n",
       "      <th>15m_x5_14</th>\n",
       "      <th>15m_x1_15</th>\n",
       "      <th>15m_x2_15</th>\n",
       "      <th>15m_x3_15</th>\n",
       "      <th>15m_x4_15</th>\n",
       "      <th>15m_x5_15</th>\n",
       "      <th>Lable</th>\n",
       "    </tr>\n",
       "  </thead>\n",
       "  <tbody>\n",
       "    <tr>\n",
       "      <th>0</th>\n",
       "      <td>2023-09-20 04:00:00+00:00</td>\n",
       "      <td>1.06792</td>\n",
       "      <td>-0.000084</td>\n",
       "      <td>-0.000290</td>\n",
       "      <td>0.000000</td>\n",
       "      <td>0.000234</td>\n",
       "      <td>0.000037</td>\n",
       "      <td>-0.000328</td>\n",
       "      <td>-0.000515</td>\n",
       "      <td>-0.000421</td>\n",
       "      <td>...</td>\n",
       "      <td>0.000197</td>\n",
       "      <td>0.000225</td>\n",
       "      <td>0.000206</td>\n",
       "      <td>0.000112</td>\n",
       "      <td>0.000318</td>\n",
       "      <td>-0.000009</td>\n",
       "      <td>0.000056</td>\n",
       "      <td>0.000028</td>\n",
       "      <td>0.000318</td>\n",
       "      <td>0</td>\n",
       "    </tr>\n",
       "    <tr>\n",
       "      <th>1</th>\n",
       "      <td>2023-09-20 04:15:00+00:00</td>\n",
       "      <td>1.06791</td>\n",
       "      <td>-0.000084</td>\n",
       "      <td>-0.000290</td>\n",
       "      <td>0.000000</td>\n",
       "      <td>0.000234</td>\n",
       "      <td>0.000037</td>\n",
       "      <td>-0.000328</td>\n",
       "      <td>-0.000515</td>\n",
       "      <td>-0.000421</td>\n",
       "      <td>...</td>\n",
       "      <td>0.000009</td>\n",
       "      <td>0.000094</td>\n",
       "      <td>0.000094</td>\n",
       "      <td>0.000140</td>\n",
       "      <td>0.000019</td>\n",
       "      <td>0.000197</td>\n",
       "      <td>0.000225</td>\n",
       "      <td>0.000206</td>\n",
       "      <td>0.000112</td>\n",
       "      <td>0</td>\n",
       "    </tr>\n",
       "    <tr>\n",
       "      <th>2</th>\n",
       "      <td>2023-09-20 04:30:00+00:00</td>\n",
       "      <td>1.06785</td>\n",
       "      <td>-0.000084</td>\n",
       "      <td>-0.000290</td>\n",
       "      <td>0.000000</td>\n",
       "      <td>0.000234</td>\n",
       "      <td>0.000037</td>\n",
       "      <td>-0.000328</td>\n",
       "      <td>-0.000515</td>\n",
       "      <td>-0.000421</td>\n",
       "      <td>...</td>\n",
       "      <td>0.000028</td>\n",
       "      <td>-0.000009</td>\n",
       "      <td>0.000112</td>\n",
       "      <td>0.000159</td>\n",
       "      <td>0.000122</td>\n",
       "      <td>0.000009</td>\n",
       "      <td>0.000094</td>\n",
       "      <td>0.000094</td>\n",
       "      <td>0.000140</td>\n",
       "      <td>1</td>\n",
       "    </tr>\n",
       "    <tr>\n",
       "      <th>3</th>\n",
       "      <td>2023-09-20 04:45:00+00:00</td>\n",
       "      <td>1.06788</td>\n",
       "      <td>-0.000084</td>\n",
       "      <td>-0.000290</td>\n",
       "      <td>0.000000</td>\n",
       "      <td>0.000234</td>\n",
       "      <td>0.000037</td>\n",
       "      <td>-0.000328</td>\n",
       "      <td>-0.000515</td>\n",
       "      <td>-0.000421</td>\n",
       "      <td>...</td>\n",
       "      <td>-0.000009</td>\n",
       "      <td>-0.000300</td>\n",
       "      <td>0.000094</td>\n",
       "      <td>0.000468</td>\n",
       "      <td>0.000009</td>\n",
       "      <td>0.000028</td>\n",
       "      <td>-0.000009</td>\n",
       "      <td>0.000112</td>\n",
       "      <td>0.000159</td>\n",
       "      <td>1</td>\n",
       "    </tr>\n",
       "    <tr>\n",
       "      <th>4</th>\n",
       "      <td>2023-09-20 05:00:00+00:00</td>\n",
       "      <td>1.06797</td>\n",
       "      <td>0.000215</td>\n",
       "      <td>0.000262</td>\n",
       "      <td>0.000009</td>\n",
       "      <td>0.000281</td>\n",
       "      <td>0.000243</td>\n",
       "      <td>-0.000084</td>\n",
       "      <td>-0.000290</td>\n",
       "      <td>0.000000</td>\n",
       "      <td>...</td>\n",
       "      <td>0.000140</td>\n",
       "      <td>0.000318</td>\n",
       "      <td>0.000206</td>\n",
       "      <td>0.000178</td>\n",
       "      <td>0.000009</td>\n",
       "      <td>-0.000009</td>\n",
       "      <td>-0.000300</td>\n",
       "      <td>0.000094</td>\n",
       "      <td>0.000468</td>\n",
       "      <td>1</td>\n",
       "    </tr>\n",
       "  </tbody>\n",
       "</table>\n",
       "<p>5 rows × 103 columns</p>\n",
       "</div>"
      ],
      "text/plain": [
       "                        Date  Trading_Price   1H_x1_0   1H_x2_0   1H_x3_0  \\\n",
       "0  2023-09-20 04:00:00+00:00        1.06792 -0.000084 -0.000290  0.000000   \n",
       "1  2023-09-20 04:15:00+00:00        1.06791 -0.000084 -0.000290  0.000000   \n",
       "2  2023-09-20 04:30:00+00:00        1.06785 -0.000084 -0.000290  0.000000   \n",
       "3  2023-09-20 04:45:00+00:00        1.06788 -0.000084 -0.000290  0.000000   \n",
       "4  2023-09-20 05:00:00+00:00        1.06797  0.000215  0.000262  0.000009   \n",
       "\n",
       "    1H_x4_0   1H_x5_0   1H_x1_1   1H_x2_1   1H_x3_1  ...  15m_x2_14  \\\n",
       "0  0.000234  0.000037 -0.000328 -0.000515 -0.000421  ...   0.000197   \n",
       "1  0.000234  0.000037 -0.000328 -0.000515 -0.000421  ...   0.000009   \n",
       "2  0.000234  0.000037 -0.000328 -0.000515 -0.000421  ...   0.000028   \n",
       "3  0.000234  0.000037 -0.000328 -0.000515 -0.000421  ...  -0.000009   \n",
       "4  0.000281  0.000243 -0.000084 -0.000290  0.000000  ...   0.000140   \n",
       "\n",
       "   15m_x3_14  15m_x4_14  15m_x5_14  15m_x1_15  15m_x2_15  15m_x3_15  \\\n",
       "0   0.000225   0.000206   0.000112   0.000318  -0.000009   0.000056   \n",
       "1   0.000094   0.000094   0.000140   0.000019   0.000197   0.000225   \n",
       "2  -0.000009   0.000112   0.000159   0.000122   0.000009   0.000094   \n",
       "3  -0.000300   0.000094   0.000468   0.000009   0.000028  -0.000009   \n",
       "4   0.000318   0.000206   0.000178   0.000009  -0.000009  -0.000300   \n",
       "\n",
       "   15m_x4_15  15m_x5_15  Lable  \n",
       "0   0.000028   0.000318      0  \n",
       "1   0.000206   0.000112      0  \n",
       "2   0.000094   0.000140      1  \n",
       "3   0.000112   0.000159      1  \n",
       "4   0.000094   0.000468      1  \n",
       "\n",
       "[5 rows x 103 columns]"
      ]
     },
     "execution_count": 5,
     "metadata": {},
     "output_type": "execute_result"
    }
   ],
   "source": [
    "df = pd.read_csv(\"datasets/training/EURUSD.csv\")\n",
    "df[\"Lable\"] = (df[\"Trading_Price\"].shift(-1)-df[\"Trading_Price\"]).apply(lambda x: 1 if x > 0 else 0)\n",
    "df = df.dropna()\n",
    "features = th.from_numpy(df.drop([\"Date\", \"Trading_Price\", \"Lable\"], axis=1).to_numpy()).to(device=device).type(th.float32)\n",
    "lable = th.from_numpy(df[\"Lable\"].to_numpy()).to(device=device)\n",
    "lable = nn.functional.one_hot(lable, num_classes=2).type(th.float32)\n",
    "df.head()"
   ]
  },
  {
   "cell_type": "code",
   "execution_count": 6,
   "metadata": {},
   "outputs": [
    {
     "data": {
      "text/plain": [
       "(torch.Size([25063, 100]), torch.Size([25063, 2]))"
      ]
     },
     "execution_count": 6,
     "metadata": {},
     "output_type": "execute_result"
    }
   ],
   "source": [
    "features.shape, lable.shape"
   ]
  },
  {
   "cell_type": "code",
   "execution_count": 7,
   "metadata": {},
   "outputs": [],
   "source": [
    "X_train, X_test, y_train, y_test = train_test_split(features, lable, test_size=0.2, random_state=42)"
   ]
  },
  {
   "cell_type": "code",
   "execution_count": 8,
   "metadata": {},
   "outputs": [],
   "source": [
    "epochs = 100000\n",
    "learning_rate = 0.001\n",
    "\n",
    "model = Network(\n",
    "    n_inputs=features.shape[1],\n",
    "    n_outputs=2,\n",
    "    hidden_size=256,\n",
    "    n_layers=3\n",
    ").to(device=device)\n",
    "\n",
    "lossfn = nn.CrossEntropyLoss()\n",
    "optimiser = th.optim.Adam(model.parameters(), lr=learning_rate)"
   ]
  },
  {
   "cell_type": "code",
   "execution_count": 9,
   "metadata": {},
   "outputs": [
    {
     "data": {
      "text/plain": [
       "Sequential(\n",
       "  (0): Linear(in_features=100, out_features=256, bias=True)\n",
       "  (1): ReLU()\n",
       "  (2): Linear(in_features=256, out_features=256, bias=True)\n",
       "  (3): ReLU()\n",
       "  (4): Linear(in_features=256, out_features=256, bias=True)\n",
       "  (5): ReLU()\n",
       "  (6): Linear(in_features=256, out_features=256, bias=True)\n",
       "  (7): ReLU()\n",
       "  (8): Linear(in_features=256, out_features=2, bias=True)\n",
       ")"
      ]
     },
     "execution_count": 9,
     "metadata": {},
     "output_type": "execute_result"
    }
   ],
   "source": [
    "model.layers"
   ]
  },
  {
   "cell_type": "code",
   "execution_count": 10,
   "metadata": {},
   "outputs": [],
   "source": [
    "confidence_threshold = 0.80"
   ]
  },
  {
   "cell_type": "code",
   "execution_count": 11,
   "metadata": {},
   "outputs": [
    {
     "name": "stdout",
     "output_type": "stream",
     "text": [
      "Epoch: 0 | Loss: 0.6933451294898987 | Accuracy: 0.0\n",
      "Epoch: 100 | Loss: 0.6876499056816101 | Accuracy: tensor([0.9000])\n",
      "Epoch: 200 | Loss: 0.632662296295166 | Accuracy: tensor([0.7854])\n",
      "Epoch: 300 | Loss: 0.6092607378959656 | Accuracy: tensor([0.8030])\n",
      "Epoch: 400 | Loss: 0.6754302978515625 | Accuracy: tensor([0.6287])\n",
      "Epoch: 500 | Loss: 0.6652454733848572 | Accuracy: tensor([0.6444])\n",
      "Epoch: 600 | Loss: 0.613131046295166 | Accuracy: tensor([0.7272])\n",
      "Epoch: 700 | Loss: 0.6150151491165161 | Accuracy: tensor([0.7192])\n",
      "Epoch: 800 | Loss: 0.6191672682762146 | Accuracy: tensor([0.7101])\n",
      "Epoch: 900 | Loss: 0.5936249494552612 | Accuracy: tensor([0.7549])\n",
      "Epoch: 1000 | Loss: 0.758109450340271 | Accuracy: tensor([0.5474])\n",
      "Epoch: 1100 | Loss: 0.6552843451499939 | Accuracy: tensor([0.6544])\n",
      "Epoch: 1200 | Loss: 0.6045853495597839 | Accuracy: tensor([0.7343])\n",
      "Epoch: 1300 | Loss: 0.6813902258872986 | Accuracy: tensor([0.6226])\n",
      "Epoch: 1400 | Loss: 0.6311733722686768 | Accuracy: tensor([0.6910])\n",
      "Epoch: 1500 | Loss: 0.6856264472007751 | Accuracy: tensor([0.6161])\n",
      "Epoch: 1600 | Loss: 0.5961977243423462 | Accuracy: tensor([0.7611])\n",
      "Epoch: 1700 | Loss: 0.5981574058532715 | Accuracy: tensor([0.7531])\n",
      "Epoch: 1800 | Loss: 0.5933590531349182 | Accuracy: tensor([0.7612])\n",
      "Epoch: 1900 | Loss: 0.5927523970603943 | Accuracy: tensor([0.7618])\n"
     ]
    },
    {
     "ename": "KeyboardInterrupt",
     "evalue": "",
     "output_type": "error",
     "traceback": [
      "\u001b[0;31m---------------------------------------------------------------------------\u001b[0m",
      "\u001b[0;31mKeyboardInterrupt\u001b[0m                         Traceback (most recent call last)",
      "Cell \u001b[0;32mIn[11], line 15\u001b[0m\n\u001b[1;32m     13\u001b[0m \u001b[38;5;28;01mwith\u001b[39;00m th\u001b[38;5;241m.\u001b[39minference_mode():\n\u001b[1;32m     14\u001b[0m     y_pred \u001b[38;5;241m=\u001b[39m model(X_test)\n\u001b[0;32m---> 15\u001b[0m confident_indices \u001b[38;5;241m=\u001b[39m np\u001b[38;5;241m.\u001b[39mwhere(\u001b[43my_pred\u001b[49m\u001b[38;5;241;43m.\u001b[39;49m\u001b[43mcpu\u001b[49m\u001b[43m(\u001b[49m\u001b[43m)\u001b[49m \u001b[38;5;241m>\u001b[39m\u001b[38;5;241m=\u001b[39m confidence_threshold)[\u001b[38;5;241m0\u001b[39m]   \n\u001b[1;32m     16\u001b[0m acc \u001b[38;5;241m=\u001b[39m \u001b[38;5;28msum\u001b[39m(y_test\u001b[38;5;241m.\u001b[39margmax(dim\u001b[38;5;241m=\u001b[39m\u001b[38;5;241m1\u001b[39m)\u001b[38;5;241m.\u001b[39munsqueeze(dim\u001b[38;5;241m=\u001b[39m\u001b[38;5;241m1\u001b[39m)\u001b[38;5;241m.\u001b[39mcpu()[confident_indices] \u001b[38;5;241m==\u001b[39m th\u001b[38;5;241m.\u001b[39margmax(y_pred, dim\u001b[38;5;241m=\u001b[39m\u001b[38;5;241m1\u001b[39m)\u001b[38;5;241m.\u001b[39munsqueeze(dim\u001b[38;5;241m=\u001b[39m\u001b[38;5;241m1\u001b[39m)\u001b[38;5;241m.\u001b[39mcpu()[confident_indices]) \u001b[38;5;241m/\u001b[39m \u001b[38;5;28mmax\u001b[39m(\u001b[38;5;28mlen\u001b[39m(y_pred[confident_indices]), \u001b[38;5;241m1\u001b[39m)\n\u001b[1;32m     17\u001b[0m loss \u001b[38;5;241m=\u001b[39m lossfn(y_pred, y_test)\n",
      "\u001b[0;31mKeyboardInterrupt\u001b[0m: "
     ]
    }
   ],
   "source": [
    "model.train()\n",
    "for epoch in range(epochs):\n",
    "    y_pred = model(X_train)\n",
    "    optimiser.zero_grad()\n",
    "    loss = lossfn(y_pred, y_train)\n",
    "    loss.backward()\n",
    "    th.nn.utils.clip_grad_norm_(model.parameters(), 0.5)\n",
    "    optimiser.step()\n",
    "    \n",
    "    \n",
    "    if epoch % 100 == 0:\n",
    "        model.eval()\n",
    "        with th.inference_mode():\n",
    "            y_pred = model(X_test)\n",
    "        confident_indices = np.where(y_pred.cpu() >= confidence_threshold)[0]   \n",
    "        acc = sum(y_test.argmax(dim=1).unsqueeze(dim=1).cpu()[confident_indices] == th.argmax(y_pred, dim=1).unsqueeze(dim=1).cpu()[confident_indices]) / max(len(y_pred[confident_indices]), 1)\n",
    "        loss = lossfn(y_pred, y_test)\n",
    "        \n",
    "        print(f\"Epoch: {epoch} | Loss: {loss} | Accuracy: {acc}\")\n",
    "        \n",
    "    model.train()"
   ]
  },
  {
   "cell_type": "code",
   "execution_count": 33,
   "metadata": {},
   "outputs": [],
   "source": [
    "columns = df.drop([\"Date\", \"Trading_Price\", \"Lable\"], axis=1).columns.to_numpy()"
   ]
  },
  {
   "cell_type": "code",
   "execution_count": 43,
   "metadata": {},
   "outputs": [
    {
     "data": {
      "text/plain": [
       "torch.Size([256, 120])"
      ]
     },
     "execution_count": 43,
     "metadata": {},
     "output_type": "execute_result"
    }
   ],
   "source": [
    "model.layers[0].weight.shape"
   ]
  },
  {
   "cell_type": "code",
   "execution_count": 51,
   "metadata": {},
   "outputs": [
    {
     "data": {
      "text/plain": [
       "'15m_x1_2'"
      ]
     },
     "execution_count": 51,
     "metadata": {},
     "output_type": "execute_result"
    }
   ],
   "source": [
    "columns[50]"
   ]
  },
  {
   "cell_type": "code",
   "execution_count": 12,
   "metadata": {},
   "outputs": [],
   "source": [
    "th.save(model, \"models/supervised_02.pt\")"
   ]
  }
 ],
 "metadata": {
  "kernelspec": {
   "display_name": "ml",
   "language": "python",
   "name": "python3"
  },
  "language_info": {
   "codemirror_mode": {
    "name": "ipython",
    "version": 3
   },
   "file_extension": ".py",
   "mimetype": "text/x-python",
   "name": "python",
   "nbconvert_exporter": "python",
   "pygments_lexer": "ipython3",
   "version": "3.12.4"
  }
 },
 "nbformat": 4,
 "nbformat_minor": 2
}
