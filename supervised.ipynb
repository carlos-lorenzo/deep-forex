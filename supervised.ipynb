{
 "cells": [
  {
   "cell_type": "code",
   "execution_count": 1,
   "metadata": {},
   "outputs": [],
   "source": [
    "import pandas as pd\n",
    "import numpy as np\n",
    "import matplotlib.pyplot as plt\n",
    "\n",
    "from sklearn.model_selection import train_test_split\n",
    "from sklearn.metrics import accuracy_score, f1_score\n",
    "\n",
    "import torch as th\n",
    "import torch.nn as nn\n",
    "\n",
    "\n",
    "from forexgym.utils import Query\n",
    "from forexgym.envs import DiscreteActionEnvironment"
   ]
  },
  {
   "cell_type": "code",
   "execution_count": 5,
   "metadata": {},
   "outputs": [
    {
     "name": "stderr",
     "output_type": "stream",
     "text": [
      "100%|██████████| 2/2 [00:00<00:00, 30.08it/s]\n"
     ]
    },
    {
     "name": "stdout",
     "output_type": "stream",
     "text": [
      "Generated EURUSD dataset.\n"
     ]
    }
   ],
   "source": [
    "def article_processor(df: pd.DataFrame, *args, **kwargs) -> pd.DataFrame:\n",
    "    df[\"x1\"] = ((df[\"Close\"] - df[\"Close\"].shift(1) ) / df[\"Close\"]).shift(1) \n",
    "    df[\"x2\"] = ((df[\"High\"] - df[\"High\"].shift(1) ) / df[\"High\"]).shift(1) \n",
    "    df[\"x3\"] = ((df[\"Low\"] - df[\"Low\"].shift(1) ) / df[\"Low\"]).shift(1) \n",
    "    df[\"x4\"] = (df[\"High\"] - df[\"Close\"]) / df[\"Close\"] \n",
    "    df[\"x5\"] = (df[\"Close\"] - df[\"Low\"]) / df[\"Close\"] \n",
    "    \n",
    "    return df.drop([\"Date\", \"Open\", \"High\", \"Low\", \"Close\"], axis=1)\n",
    "\n",
    "ticker = \"EURUSD\"\n",
    "#timeframes = [\"1m\", \"5m\", \"15m\", \"30m\", \"1H\", \"4H\", \"1D\"]\n",
    "timeframes = [\"15m\", \"1H\"]\n",
    "\n",
    "query = Query(episode_length=256, trading_timeframe=\"15m\", trading_column=\"Close\")\n",
    "# query.add_query(\n",
    "#     timeframe=\"4H\",\n",
    "#     window_size=4,\n",
    "#     data_processor=article_processor\n",
    "# )\n",
    "query.add_query(\n",
    "    timeframe=\"15m\",\n",
    "    window_size=16,\n",
    "    data_processor=article_processor\n",
    ")\n",
    "query.add_query(\n",
    "    timeframe=\"1H\",\n",
    "    window_size=4,\n",
    "    data_processor=article_processor\n",
    ")\n",
    "# query.add_query(\n",
    "#     timeframe=\"15m\",\n",
    "#     window_size=4,\n",
    "#     data_processor=article_processor\n",
    "# )\n",
    "# dataset = pair.generate_dataset(query)\n",
    "\n",
    "env = DiscreteActionEnvironment(\n",
    "    currency_tickers={\"EURUSD\": timeframes},\n",
    "    query=query,\n",
    "    reward_type=\"continuous\",\n",
    "    reward_multiplier=1e3,\n",
    "    episode_length=256,\n",
    "    allow_holding=True\n",
    ")"
   ]
  },
  {
   "cell_type": "code",
   "execution_count": 6,
   "metadata": {},
   "outputs": [],
   "source": [
    "device = th.device(\"cuda\" if th.cuda.is_available() else \"cpu\")"
   ]
  },
  {
   "cell_type": "code",
   "execution_count": 7,
   "metadata": {},
   "outputs": [],
   "source": [
    "class Network(nn.Module):\n",
    "    def __init__(self, n_inputs: int, n_outputs: int, hidden_size: int = 128, n_layers: int = 2):\n",
    "        super().__init__()\n",
    "        \n",
    "        self.layers = nn.Sequential(\n",
    "            nn.Linear(n_inputs, hidden_size),\n",
    "            *[\n",
    "                nn.ReLU() if i % 2 == 0 else nn.Linear(hidden_size, hidden_size) for i in range(n_layers*2)\n",
    "            ],\n",
    "            nn.ReLU(),\n",
    "            nn.Linear(hidden_size, n_outputs),\n",
    "        )\n",
    "        self.softmax = nn.Softmax(dim=1)\n",
    "\n",
    "    def forward(self, x: th.Tensor) -> th.Tensor:\n",
    "        return self.softmax(self.layers(x))"
   ]
  },
  {
   "cell_type": "code",
   "execution_count": 8,
   "metadata": {},
   "outputs": [],
   "source": [
    "batch_size = 64"
   ]
  },
  {
   "cell_type": "code",
   "execution_count": 9,
   "metadata": {},
   "outputs": [
    {
     "data": {
      "text/html": [
       "<div>\n",
       "<style scoped>\n",
       "    .dataframe tbody tr th:only-of-type {\n",
       "        vertical-align: middle;\n",
       "    }\n",
       "\n",
       "    .dataframe tbody tr th {\n",
       "        vertical-align: top;\n",
       "    }\n",
       "\n",
       "    .dataframe thead th {\n",
       "        text-align: right;\n",
       "    }\n",
       "</style>\n",
       "<table border=\"1\" class=\"dataframe\">\n",
       "  <thead>\n",
       "    <tr style=\"text-align: right;\">\n",
       "      <th></th>\n",
       "      <th>Date</th>\n",
       "      <th>Trading_Price</th>\n",
       "      <th>15m_x1_0</th>\n",
       "      <th>15m_x2_0</th>\n",
       "      <th>15m_x3_0</th>\n",
       "      <th>15m_x4_0</th>\n",
       "      <th>15m_x5_0</th>\n",
       "      <th>15m_x1_1</th>\n",
       "      <th>15m_x2_1</th>\n",
       "      <th>15m_x3_1</th>\n",
       "      <th>...</th>\n",
       "      <th>1H_x2_2</th>\n",
       "      <th>1H_x3_2</th>\n",
       "      <th>1H_x4_2</th>\n",
       "      <th>1H_x5_2</th>\n",
       "      <th>1H_x1_3</th>\n",
       "      <th>1H_x2_3</th>\n",
       "      <th>1H_x3_3</th>\n",
       "      <th>1H_x4_3</th>\n",
       "      <th>1H_x5_3</th>\n",
       "      <th>Lable</th>\n",
       "    </tr>\n",
       "  </thead>\n",
       "  <tbody>\n",
       "    <tr>\n",
       "      <th>0</th>\n",
       "      <td>2023-09-20 06:00:00+00:00</td>\n",
       "      <td>1.06866</td>\n",
       "      <td>-0.000056</td>\n",
       "      <td>-0.000225</td>\n",
       "      <td>-0.000159</td>\n",
       "      <td>0.000122</td>\n",
       "      <td>0.001263</td>\n",
       "      <td>0.000037</td>\n",
       "      <td>0.000215</td>\n",
       "      <td>0.000187</td>\n",
       "      <td>...</td>\n",
       "      <td>0.000206</td>\n",
       "      <td>0.000253</td>\n",
       "      <td>0.000440</td>\n",
       "      <td>0.000122</td>\n",
       "      <td>0.000131</td>\n",
       "      <td>0.000159</td>\n",
       "      <td>0.000066</td>\n",
       "      <td>0.000627</td>\n",
       "      <td>0.000028</td>\n",
       "      <td>1</td>\n",
       "    </tr>\n",
       "    <tr>\n",
       "      <th>1</th>\n",
       "      <td>2023-09-20 06:15:00+00:00</td>\n",
       "      <td>1.06902</td>\n",
       "      <td>0.000515</td>\n",
       "      <td>0.000580</td>\n",
       "      <td>-0.000581</td>\n",
       "      <td>0.000140</td>\n",
       "      <td>0.000384</td>\n",
       "      <td>-0.000056</td>\n",
       "      <td>-0.000225</td>\n",
       "      <td>-0.000159</td>\n",
       "      <td>...</td>\n",
       "      <td>0.000206</td>\n",
       "      <td>0.000253</td>\n",
       "      <td>0.000440</td>\n",
       "      <td>0.000122</td>\n",
       "      <td>0.000131</td>\n",
       "      <td>0.000159</td>\n",
       "      <td>0.000066</td>\n",
       "      <td>0.000627</td>\n",
       "      <td>0.000028</td>\n",
       "      <td>1</td>\n",
       "    </tr>\n",
       "    <tr>\n",
       "      <th>2</th>\n",
       "      <td>2023-09-20 06:30:00+00:00</td>\n",
       "      <td>1.06926</td>\n",
       "      <td>0.000337</td>\n",
       "      <td>0.000355</td>\n",
       "      <td>0.001217</td>\n",
       "      <td>0.000028</td>\n",
       "      <td>0.000430</td>\n",
       "      <td>0.000515</td>\n",
       "      <td>0.000580</td>\n",
       "      <td>-0.000581</td>\n",
       "      <td>...</td>\n",
       "      <td>0.000206</td>\n",
       "      <td>0.000253</td>\n",
       "      <td>0.000440</td>\n",
       "      <td>0.000122</td>\n",
       "      <td>0.000131</td>\n",
       "      <td>0.000159</td>\n",
       "      <td>0.000066</td>\n",
       "      <td>0.000627</td>\n",
       "      <td>0.000028</td>\n",
       "      <td>0</td>\n",
       "    </tr>\n",
       "    <tr>\n",
       "      <th>3</th>\n",
       "      <td>2023-09-20 06:45:00+00:00</td>\n",
       "      <td>1.06820</td>\n",
       "      <td>0.000224</td>\n",
       "      <td>0.000112</td>\n",
       "      <td>0.000178</td>\n",
       "      <td>0.001048</td>\n",
       "      <td>0.000047</td>\n",
       "      <td>0.000337</td>\n",
       "      <td>0.000355</td>\n",
       "      <td>0.001217</td>\n",
       "      <td>...</td>\n",
       "      <td>0.000206</td>\n",
       "      <td>0.000253</td>\n",
       "      <td>0.000440</td>\n",
       "      <td>0.000122</td>\n",
       "      <td>0.000131</td>\n",
       "      <td>0.000159</td>\n",
       "      <td>0.000066</td>\n",
       "      <td>0.000627</td>\n",
       "      <td>0.000028</td>\n",
       "      <td>0</td>\n",
       "    </tr>\n",
       "    <tr>\n",
       "      <th>4</th>\n",
       "      <td>2023-09-20 07:00:00+00:00</td>\n",
       "      <td>1.06769</td>\n",
       "      <td>-0.000992</td>\n",
       "      <td>0.000028</td>\n",
       "      <td>-0.000609</td>\n",
       "      <td>0.000693</td>\n",
       "      <td>0.000009</td>\n",
       "      <td>0.000224</td>\n",
       "      <td>0.000112</td>\n",
       "      <td>0.000178</td>\n",
       "      <td>...</td>\n",
       "      <td>-0.000515</td>\n",
       "      <td>-0.000421</td>\n",
       "      <td>0.000234</td>\n",
       "      <td>0.000037</td>\n",
       "      <td>-0.000300</td>\n",
       "      <td>0.000206</td>\n",
       "      <td>0.000253</td>\n",
       "      <td>0.000440</td>\n",
       "      <td>0.000122</td>\n",
       "      <td>1</td>\n",
       "    </tr>\n",
       "  </tbody>\n",
       "</table>\n",
       "<p>5 rows × 103 columns</p>\n",
       "</div>"
      ],
      "text/plain": [
       "                        Date  Trading_Price  15m_x1_0  15m_x2_0  15m_x3_0  \\\n",
       "0  2023-09-20 06:00:00+00:00        1.06866 -0.000056 -0.000225 -0.000159   \n",
       "1  2023-09-20 06:15:00+00:00        1.06902  0.000515  0.000580 -0.000581   \n",
       "2  2023-09-20 06:30:00+00:00        1.06926  0.000337  0.000355  0.001217   \n",
       "3  2023-09-20 06:45:00+00:00        1.06820  0.000224  0.000112  0.000178   \n",
       "4  2023-09-20 07:00:00+00:00        1.06769 -0.000992  0.000028 -0.000609   \n",
       "\n",
       "   15m_x4_0  15m_x5_0  15m_x1_1  15m_x2_1  15m_x3_1  ...   1H_x2_2   1H_x3_2  \\\n",
       "0  0.000122  0.001263  0.000037  0.000215  0.000187  ...  0.000206  0.000253   \n",
       "1  0.000140  0.000384 -0.000056 -0.000225 -0.000159  ...  0.000206  0.000253   \n",
       "2  0.000028  0.000430  0.000515  0.000580 -0.000581  ...  0.000206  0.000253   \n",
       "3  0.001048  0.000047  0.000337  0.000355  0.001217  ...  0.000206  0.000253   \n",
       "4  0.000693  0.000009  0.000224  0.000112  0.000178  ... -0.000515 -0.000421   \n",
       "\n",
       "    1H_x4_2   1H_x5_2   1H_x1_3   1H_x2_3   1H_x3_3   1H_x4_3   1H_x5_3  Lable  \n",
       "0  0.000440  0.000122  0.000131  0.000159  0.000066  0.000627  0.000028      1  \n",
       "1  0.000440  0.000122  0.000131  0.000159  0.000066  0.000627  0.000028      1  \n",
       "2  0.000440  0.000122  0.000131  0.000159  0.000066  0.000627  0.000028      0  \n",
       "3  0.000440  0.000122  0.000131  0.000159  0.000066  0.000627  0.000028      0  \n",
       "4  0.000234  0.000037 -0.000300  0.000206  0.000253  0.000440  0.000122      1  \n",
       "\n",
       "[5 rows x 103 columns]"
      ]
     },
     "execution_count": 9,
     "metadata": {},
     "output_type": "execute_result"
    }
   ],
   "source": [
    "df = pd.read_csv(\"datasets/training/EURUSD.csv\")\n",
    "df[\"Lable\"] = (df[\"Trading_Price\"].shift(-1)-df[\"Trading_Price\"]).apply(lambda x: 1 if x > 0 else 0)\n",
    "df = df.dropna()\n",
    "features = th.from_numpy(df.drop([\"Date\", \"Trading_Price\", \"Lable\"], axis=1).to_numpy()).to(device=device).type(th.float32)\n",
    "lable = th.from_numpy(df[\"Lable\"].to_numpy()).to(device=device)\n",
    "lable = nn.functional.one_hot(lable, num_classes=2).type(th.float32)\n",
    "df.head()"
   ]
  },
  {
   "cell_type": "code",
   "execution_count": 10,
   "metadata": {},
   "outputs": [
    {
     "data": {
      "text/plain": [
       "(torch.Size([25055, 100]), torch.Size([25055, 2]))"
      ]
     },
     "execution_count": 10,
     "metadata": {},
     "output_type": "execute_result"
    }
   ],
   "source": [
    "features.shape, lable.shape"
   ]
  },
  {
   "cell_type": "code",
   "execution_count": 11,
   "metadata": {},
   "outputs": [],
   "source": [
    "X_train, X_test, y_train, y_test = train_test_split(features, lable, test_size=0.2, random_state=42)"
   ]
  },
  {
   "cell_type": "code",
   "execution_count": 16,
   "metadata": {},
   "outputs": [],
   "source": [
    "epochs = 10000\n",
    "learning_rate = 0.0005\n",
    "\n",
    "model = Network(\n",
    "    n_inputs=features.shape[1],\n",
    "    n_outputs=2,\n",
    "    hidden_size=256,\n",
    "    n_layers=3\n",
    ").to(device=device)\n",
    "\n",
    "lossfn = nn.CrossEntropyLoss()\n",
    "optimiser = th.optim.Adam(model.parameters(), lr=learning_rate)"
   ]
  },
  {
   "cell_type": "code",
   "execution_count": 17,
   "metadata": {},
   "outputs": [
    {
     "data": {
      "text/plain": [
       "Sequential(\n",
       "  (0): Linear(in_features=100, out_features=256, bias=True)\n",
       "  (1): ReLU()\n",
       "  (2): Linear(in_features=256, out_features=256, bias=True)\n",
       "  (3): ReLU()\n",
       "  (4): Linear(in_features=256, out_features=256, bias=True)\n",
       "  (5): ReLU()\n",
       "  (6): Linear(in_features=256, out_features=256, bias=True)\n",
       "  (7): ReLU()\n",
       "  (8): Linear(in_features=256, out_features=2, bias=True)\n",
       ")"
      ]
     },
     "execution_count": 17,
     "metadata": {},
     "output_type": "execute_result"
    }
   ],
   "source": [
    "model.layers"
   ]
  },
  {
   "cell_type": "code",
   "execution_count": 18,
   "metadata": {},
   "outputs": [],
   "source": [
    "confidence_threshold = 0.8"
   ]
  },
  {
   "cell_type": "code",
   "execution_count": 19,
   "metadata": {},
   "outputs": [
    {
     "name": "stdout",
     "output_type": "stream",
     "text": [
      "Epoch: 0 | Loss: 0.693128228187561 | Accuracy: 0.0 | F1: 0\n",
      "Epoch: 100 | Loss: 0.6931772232055664 | Accuracy: 0.0 | F1: 0\n",
      "Epoch: 200 | Loss: 0.6931761503219604 | Accuracy: 0.0 | F1: 0\n",
      "Epoch: 300 | Loss: 0.6931235790252686 | Accuracy: 0.0 | F1: 0\n",
      "Epoch: 400 | Loss: 0.6937114000320435 | Accuracy: 0.0 | F1: 0\n",
      "Epoch: 500 | Loss: 0.6943509578704834 | Accuracy: [0.33333333] | F1: 0.0\n",
      "Epoch: 600 | Loss: 0.6943963766098022 | Accuracy: [0.4] | F1: 0.0\n",
      "Epoch: 700 | Loss: 0.6949750185012817 | Accuracy: [0.5] | F1: 0.0\n",
      "Epoch: 800 | Loss: 0.6952784061431885 | Accuracy: [0.5] | F1: 0.0\n",
      "Epoch: 900 | Loss: 0.6960248947143555 | Accuracy: [0.5] | F1: 0.0\n",
      "Epoch: 1000 | Loss: 0.6958256959915161 | Accuracy: [0.4] | F1: 0.0\n",
      "Epoch: 1100 | Loss: 0.6955059170722961 | Accuracy: [0.5] | F1: 0.0\n",
      "Epoch: 1200 | Loss: 0.6956354975700378 | Accuracy: [0.66666667] | F1: 0.0\n"
     ]
    },
    {
     "name": "stderr",
     "output_type": "stream",
     "text": [
      "c:\\Users\\Carlos\\anaconda3\\envs\\ml\\Lib\\site-packages\\sklearn\\metrics\\_classification.py:1757: UndefinedMetricWarning: F-score is ill-defined and being set to 0.0 due to no true nor predicted samples. Use `zero_division` parameter to control this behavior.\n",
      "  _warn_prf(average, \"true nor predicted\", \"F-score is\", len(true_sum))\n"
     ]
    },
    {
     "name": "stdout",
     "output_type": "stream",
     "text": [
      "Epoch: 1300 | Loss: 0.695771336555481 | Accuracy: [1.] | F1: 0.0\n",
      "Epoch: 1400 | Loss: 0.6958630084991455 | Accuracy: 0.0 | F1: 0\n",
      "Epoch: 1500 | Loss: 0.6960798501968384 | Accuracy: 0.0 | F1: 0\n"
     ]
    },
    {
     "name": "stderr",
     "output_type": "stream",
     "text": [
      "c:\\Users\\Carlos\\anaconda3\\envs\\ml\\Lib\\site-packages\\sklearn\\metrics\\_classification.py:1757: UndefinedMetricWarning: F-score is ill-defined and being set to 0.0 due to no true nor predicted samples. Use `zero_division` parameter to control this behavior.\n",
      "  _warn_prf(average, \"true nor predicted\", \"F-score is\", len(true_sum))\n"
     ]
    },
    {
     "name": "stdout",
     "output_type": "stream",
     "text": [
      "Epoch: 1600 | Loss: 0.6973121166229248 | Accuracy: [1.] | F1: 0.0\n"
     ]
    },
    {
     "name": "stderr",
     "output_type": "stream",
     "text": [
      "c:\\Users\\Carlos\\anaconda3\\envs\\ml\\Lib\\site-packages\\sklearn\\metrics\\_classification.py:1757: UndefinedMetricWarning: F-score is ill-defined and being set to 0.0 due to no true nor predicted samples. Use `zero_division` parameter to control this behavior.\n",
      "  _warn_prf(average, \"true nor predicted\", \"F-score is\", len(true_sum))\n"
     ]
    },
    {
     "name": "stdout",
     "output_type": "stream",
     "text": [
      "Epoch: 1700 | Loss: 0.6951082348823547 | Accuracy: [1.] | F1: 0.0\n",
      "Epoch: 1800 | Loss: 0.6966803669929504 | Accuracy: [0.66666667] | F1: 0.0\n",
      "Epoch: 1900 | Loss: 0.6981440186500549 | Accuracy: [0.5] | F1: 0.0\n",
      "Epoch: 2000 | Loss: 0.6983193755149841 | Accuracy: [0.4] | F1: 0.0\n",
      "Epoch: 2100 | Loss: 0.6985597610473633 | Accuracy: [0.33333333] | F1: 0.0\n",
      "Epoch: 2200 | Loss: 0.7007835507392883 | Accuracy: [0.33333333] | F1: 0.0\n",
      "Epoch: 2300 | Loss: 0.6987282037734985 | Accuracy: [0.5] | F1: 0.0\n",
      "Epoch: 2400 | Loss: 0.7003363370895386 | Accuracy: [0.5] | F1: 0.0\n",
      "Epoch: 2500 | Loss: 0.7004687190055847 | Accuracy: [0.57142857] | F1: 0.5714285714285715\n",
      "Epoch: 2600 | Loss: 0.699497401714325 | Accuracy: [0.38888889] | F1: 0.42105263157894735\n",
      "Epoch: 2700 | Loss: 0.7005221247673035 | Accuracy: [0.42857143] | F1: 0.4666666666666667\n",
      "Epoch: 2800 | Loss: 0.7011530995368958 | Accuracy: [0.44186047] | F1: 0.45454545454545453\n",
      "Epoch: 2900 | Loss: 0.7018604874610901 | Accuracy: [0.38297872] | F1: 0.3829787234042554\n",
      "Epoch: 3000 | Loss: 0.7017976641654968 | Accuracy: [0.43478261] | F1: 0.5\n",
      "Epoch: 3100 | Loss: 0.7023759484291077 | Accuracy: [0.51239669] | F1: 0.5815602836879432\n",
      "Epoch: 3200 | Loss: 0.7031151652336121 | Accuracy: [0.49382716] | F1: 0.5684210526315788\n",
      "Epoch: 3300 | Loss: 0.7038478255271912 | Accuracy: [0.49456522] | F1: 0.5753424657534246\n",
      "Epoch: 3400 | Loss: 0.7046952843666077 | Accuracy: [0.48165138] | F1: 0.5603112840466925\n",
      "Epoch: 3500 | Loss: 0.7049702405929565 | Accuracy: [0.47033898] | F1: 0.5421245421245421\n",
      "Epoch: 3600 | Loss: 0.7057972550392151 | Accuracy: [0.47744361] | F1: 0.5382059800664452\n",
      "Epoch: 3700 | Loss: 0.7065607905387878 | Accuracy: [0.48494983] | F1: 0.5389221556886228\n",
      "Epoch: 3800 | Loss: 0.7075799703598022 | Accuracy: [0.49560117] | F1: 0.5473684210526315\n",
      "Epoch: 3900 | Loss: 0.7087103128433228 | Accuracy: [0.49736842] | F1: 0.5484633569739953\n",
      "Epoch: 4000 | Loss: 0.7094106674194336 | Accuracy: [0.49760766] | F1: 0.5454545454545455\n",
      "Epoch: 4100 | Loss: 0.7092112898826599 | Accuracy: [0.4963145] | F1: 0.5372460496613995\n",
      "Epoch: 4200 | Loss: 0.7104557752609253 | Accuracy: [0.49126638] | F1: 0.5349301397205589\n",
      "Epoch: 4300 | Loss: 0.7111861109733582 | Accuracy: [0.494] | F1: 0.5271028037383177\n",
      "Epoch: 4400 | Loss: 0.7116015553474426 | Accuracy: [0.4921875] | F1: 0.5289855072463768\n",
      "Epoch: 4500 | Loss: 0.7185499668121338 | Accuracy: [0.49398907] | F1: 0.5172054223149113\n",
      "Epoch: 4600 | Loss: 0.711151659488678 | Accuracy: [0.47991543] | F1: 0.4896265560165975\n",
      "Epoch: 4700 | Loss: 0.715901255607605 | Accuracy: [0.49439776] | F1: 0.5686977299880526\n",
      "Epoch: 4800 | Loss: 0.7131803035736084 | Accuracy: [0.48551959] | F1: 0.47931034482758617\n",
      "Epoch: 4900 | Loss: 0.7135151028633118 | Accuracy: [0.4875208] | F1: 0.4797297297297297\n",
      "Epoch: 5000 | Loss: 0.7138229012489319 | Accuracy: [0.48553055] | F1: 0.47019867549668865\n",
      "Epoch: 5100 | Loss: 0.7143777012825012 | Accuracy: [0.48826291] | F1: 0.4682926829268293\n",
      "Epoch: 5200 | Loss: 0.7148803472518921 | Accuracy: [0.47734139] | F1: 0.45425867507886436\n",
      "Epoch: 5300 | Loss: 0.7151983380317688 | Accuracy: [0.47845468] | F1: 0.45412130637636083\n",
      "Epoch: 5400 | Loss: 0.7157561779022217 | Accuracy: [0.46573427] | F1: 0.44314868804664725\n",
      "Epoch: 5500 | Loss: 0.7162915468215942 | Accuracy: [0.46308725] | F1: 0.4428969359331476\n",
      "Epoch: 5600 | Loss: 0.7173739671707153 | Accuracy: [0.46894804] | F1: 0.4702907711757269\n",
      "Epoch: 5700 | Loss: 0.7146186232566833 | Accuracy: [0.47968545] | F1: 0.49037227214377405\n",
      "Epoch: 5800 | Loss: 0.7155810594558716 | Accuracy: [0.45790251] | F1: 0.474964234620887\n",
      "Epoch: 5900 | Loss: 0.7217047214508057 | Accuracy: [0.47633434] | F1: 0.5886075949367088\n"
     ]
    },
    {
     "ename": "KeyboardInterrupt",
     "evalue": "",
     "output_type": "error",
     "traceback": [
      "\u001b[1;31m---------------------------------------------------------------------------\u001b[0m",
      "\u001b[1;31mKeyboardInterrupt\u001b[0m                         Traceback (most recent call last)",
      "Cell \u001b[1;32mIn[19], line 7\u001b[0m\n\u001b[0;32m      5\u001b[0m loss \u001b[38;5;241m=\u001b[39m lossfn(y_pred, y_train)\n\u001b[0;32m      6\u001b[0m loss\u001b[38;5;241m.\u001b[39mbackward()\n\u001b[1;32m----> 7\u001b[0m \u001b[43mth\u001b[49m\u001b[38;5;241;43m.\u001b[39;49m\u001b[43mnn\u001b[49m\u001b[38;5;241;43m.\u001b[39;49m\u001b[43mutils\u001b[49m\u001b[38;5;241;43m.\u001b[39;49m\u001b[43mclip_grad_norm_\u001b[49m\u001b[43m(\u001b[49m\u001b[43mmodel\u001b[49m\u001b[38;5;241;43m.\u001b[39;49m\u001b[43mparameters\u001b[49m\u001b[43m(\u001b[49m\u001b[43m)\u001b[49m\u001b[43m,\u001b[49m\u001b[43m \u001b[49m\u001b[38;5;241;43m0.5\u001b[39;49m\u001b[43m)\u001b[49m\n\u001b[0;32m      8\u001b[0m optimiser\u001b[38;5;241m.\u001b[39mstep()\n\u001b[0;32m     11\u001b[0m \u001b[38;5;28;01mif\u001b[39;00m epoch \u001b[38;5;241m%\u001b[39m \u001b[38;5;241m100\u001b[39m \u001b[38;5;241m==\u001b[39m \u001b[38;5;241m0\u001b[39m:\n",
      "File \u001b[1;32mc:\\Users\\Carlos\\anaconda3\\envs\\ml\\Lib\\site-packages\\torch\\nn\\utils\\clip_grad.py:76\u001b[0m, in \u001b[0;36mclip_grad_norm_\u001b[1;34m(parameters, max_norm, norm_type, error_if_nonfinite, foreach)\u001b[0m\n\u001b[0;32m     74\u001b[0m \u001b[38;5;28;01mfor\u001b[39;00m ((device, _), [grads]) \u001b[38;5;129;01min\u001b[39;00m grouped_grads\u001b[38;5;241m.\u001b[39mitems():\n\u001b[0;32m     75\u001b[0m     \u001b[38;5;28;01mif\u001b[39;00m (foreach \u001b[38;5;129;01mis\u001b[39;00m \u001b[38;5;28;01mNone\u001b[39;00m \u001b[38;5;129;01mor\u001b[39;00m foreach) \u001b[38;5;129;01mand\u001b[39;00m _has_foreach_support(grads, device\u001b[38;5;241m=\u001b[39mdevice):\n\u001b[1;32m---> 76\u001b[0m         \u001b[43mtorch\u001b[49m\u001b[38;5;241;43m.\u001b[39;49m\u001b[43m_foreach_mul_\u001b[49m\u001b[43m(\u001b[49m\u001b[43mgrads\u001b[49m\u001b[43m,\u001b[49m\u001b[43m \u001b[49m\u001b[43mclip_coef_clamped\u001b[49m\u001b[38;5;241;43m.\u001b[39;49m\u001b[43mto\u001b[49m\u001b[43m(\u001b[49m\u001b[43mdevice\u001b[49m\u001b[43m)\u001b[49m\u001b[43m)\u001b[49m  \u001b[38;5;66;03m# type: ignore[call-overload]\u001b[39;00m\n\u001b[0;32m     77\u001b[0m     \u001b[38;5;28;01melif\u001b[39;00m foreach:\n\u001b[0;32m     78\u001b[0m         \u001b[38;5;28;01mraise\u001b[39;00m \u001b[38;5;167;01mRuntimeError\u001b[39;00m(\u001b[38;5;124mf\u001b[39m\u001b[38;5;124m'\u001b[39m\u001b[38;5;124mforeach=True was passed, but can\u001b[39m\u001b[38;5;130;01m\\'\u001b[39;00m\u001b[38;5;124mt use the foreach API on \u001b[39m\u001b[38;5;132;01m{\u001b[39;00mdevice\u001b[38;5;241m.\u001b[39mtype\u001b[38;5;132;01m}\u001b[39;00m\u001b[38;5;124m tensors\u001b[39m\u001b[38;5;124m'\u001b[39m)\n",
      "\u001b[1;31mKeyboardInterrupt\u001b[0m: "
     ]
    }
   ],
   "source": [
    "model.train()\n",
    "for epoch in range(epochs):\n",
    "    y_pred = model(X_train)\n",
    "    optimiser.zero_grad()\n",
    "    loss = lossfn(y_pred, y_train)\n",
    "    loss.backward()\n",
    "    th.nn.utils.clip_grad_norm_(model.parameters(), 0.5)\n",
    "    optimiser.step()\n",
    "    \n",
    "    \n",
    "    if epoch % 100 == 0:\n",
    "        model.eval()\n",
    "        with th.inference_mode():\n",
    "            y_pred = model(X_test)\n",
    "        confident_indices = np.where(y_pred.cpu() >= confidence_threshold)[0]   \n",
    "        pred_filtered = y_test.argmax(dim=1).unsqueeze(dim=1).cpu()[confident_indices].detach().cpu().numpy()\n",
    "        test_filtered = th.argmax(y_pred, dim=1).unsqueeze(dim=1).cpu()[confident_indices].detach().cpu().numpy()\n",
    "        acc = sum(pred_filtered == test_filtered) / max(len(y_pred[confident_indices]), 1)\n",
    "        try:\n",
    "            f1 = f1_score(test_filtered, pred_filtered)\n",
    "        except:  # noqa: E722 ik this bad, but it works\n",
    "            f1 = 0\n",
    "        loss = lossfn(y_pred, y_test)\n",
    "        \n",
    "        print(f\"Epoch: {epoch} | Loss: {loss} | Accuracy: {acc} | F1: {f1}\")\n",
    "        \n",
    "    model.train()"
   ]
  },
  {
   "cell_type": "code",
   "execution_count": 27,
   "metadata": {},
   "outputs": [],
   "source": [
    "th.save(model, \"models/supervised_02.pt\")"
   ]
  },
  {
   "cell_type": "code",
   "execution_count": 96,
   "metadata": {},
   "outputs": [
    {
     "ename": "RuntimeError",
     "evalue": "mat1 and mat2 shapes cannot be multiplied (1x1 and 6x256)",
     "output_type": "error",
     "traceback": [
      "\u001b[1;31m---------------------------------------------------------------------------\u001b[0m",
      "\u001b[1;31mRuntimeError\u001b[0m                              Traceback (most recent call last)",
      "Cell \u001b[1;32mIn[96], line 1\u001b[0m\n\u001b[1;32m----> 1\u001b[0m \u001b[43mmodel\u001b[49m\u001b[38;5;241;43m.\u001b[39;49m\u001b[43mforward\u001b[49m\u001b[43m(\u001b[49m\u001b[43mth\u001b[49m\u001b[38;5;241;43m.\u001b[39;49m\u001b[43mTensor\u001b[49m\u001b[43m(\u001b[49m\u001b[43m[\u001b[49m\u001b[43m[\u001b[49m\u001b[38;5;241;43m0\u001b[39;49m\u001b[43m]\u001b[49m\u001b[43m]\u001b[49m\u001b[43m)\u001b[49m\u001b[38;5;241;43m.\u001b[39;49m\u001b[43mto\u001b[49m\u001b[43m(\u001b[49m\u001b[43mdevice\u001b[49m\u001b[38;5;241;43m=\u001b[39;49m\u001b[43mdevice\u001b[49m\u001b[43m)\u001b[49m\u001b[43m)\u001b[49m\n",
      "Cell \u001b[1;32mIn[33], line 16\u001b[0m, in \u001b[0;36mNetwork.forward\u001b[1;34m(self, x)\u001b[0m\n\u001b[0;32m     15\u001b[0m \u001b[38;5;28;01mdef\u001b[39;00m \u001b[38;5;21mforward\u001b[39m(\u001b[38;5;28mself\u001b[39m, x: th\u001b[38;5;241m.\u001b[39mTensor) \u001b[38;5;241m-\u001b[39m\u001b[38;5;241m>\u001b[39m th\u001b[38;5;241m.\u001b[39mTensor:\n\u001b[1;32m---> 16\u001b[0m     \u001b[38;5;28;01mreturn\u001b[39;00m \u001b[38;5;28mself\u001b[39m\u001b[38;5;241m.\u001b[39msoftmax(\u001b[38;5;28;43mself\u001b[39;49m\u001b[38;5;241;43m.\u001b[39;49m\u001b[43mlayers\u001b[49m\u001b[43m(\u001b[49m\u001b[43mx\u001b[49m\u001b[43m)\u001b[49m)\n",
      "File \u001b[1;32mc:\\Users\\Carlos\\anaconda3\\envs\\ml\\Lib\\site-packages\\torch\\nn\\modules\\module.py:1501\u001b[0m, in \u001b[0;36mModule._call_impl\u001b[1;34m(self, *args, **kwargs)\u001b[0m\n\u001b[0;32m   1496\u001b[0m \u001b[38;5;66;03m# If we don't have any hooks, we want to skip the rest of the logic in\u001b[39;00m\n\u001b[0;32m   1497\u001b[0m \u001b[38;5;66;03m# this function, and just call forward.\u001b[39;00m\n\u001b[0;32m   1498\u001b[0m \u001b[38;5;28;01mif\u001b[39;00m \u001b[38;5;129;01mnot\u001b[39;00m (\u001b[38;5;28mself\u001b[39m\u001b[38;5;241m.\u001b[39m_backward_hooks \u001b[38;5;129;01mor\u001b[39;00m \u001b[38;5;28mself\u001b[39m\u001b[38;5;241m.\u001b[39m_backward_pre_hooks \u001b[38;5;129;01mor\u001b[39;00m \u001b[38;5;28mself\u001b[39m\u001b[38;5;241m.\u001b[39m_forward_hooks \u001b[38;5;129;01mor\u001b[39;00m \u001b[38;5;28mself\u001b[39m\u001b[38;5;241m.\u001b[39m_forward_pre_hooks\n\u001b[0;32m   1499\u001b[0m         \u001b[38;5;129;01mor\u001b[39;00m _global_backward_pre_hooks \u001b[38;5;129;01mor\u001b[39;00m _global_backward_hooks\n\u001b[0;32m   1500\u001b[0m         \u001b[38;5;129;01mor\u001b[39;00m _global_forward_hooks \u001b[38;5;129;01mor\u001b[39;00m _global_forward_pre_hooks):\n\u001b[1;32m-> 1501\u001b[0m     \u001b[38;5;28;01mreturn\u001b[39;00m \u001b[43mforward_call\u001b[49m\u001b[43m(\u001b[49m\u001b[38;5;241;43m*\u001b[39;49m\u001b[43margs\u001b[49m\u001b[43m,\u001b[49m\u001b[43m \u001b[49m\u001b[38;5;241;43m*\u001b[39;49m\u001b[38;5;241;43m*\u001b[39;49m\u001b[43mkwargs\u001b[49m\u001b[43m)\u001b[49m\n\u001b[0;32m   1502\u001b[0m \u001b[38;5;66;03m# Do not call functions when jit is used\u001b[39;00m\n\u001b[0;32m   1503\u001b[0m full_backward_hooks, non_full_backward_hooks \u001b[38;5;241m=\u001b[39m [], []\n",
      "File \u001b[1;32mc:\\Users\\Carlos\\anaconda3\\envs\\ml\\Lib\\site-packages\\torch\\nn\\modules\\container.py:217\u001b[0m, in \u001b[0;36mSequential.forward\u001b[1;34m(self, input)\u001b[0m\n\u001b[0;32m    215\u001b[0m \u001b[38;5;28;01mdef\u001b[39;00m \u001b[38;5;21mforward\u001b[39m(\u001b[38;5;28mself\u001b[39m, \u001b[38;5;28minput\u001b[39m):\n\u001b[0;32m    216\u001b[0m     \u001b[38;5;28;01mfor\u001b[39;00m module \u001b[38;5;129;01min\u001b[39;00m \u001b[38;5;28mself\u001b[39m:\n\u001b[1;32m--> 217\u001b[0m         \u001b[38;5;28minput\u001b[39m \u001b[38;5;241m=\u001b[39m \u001b[43mmodule\u001b[49m\u001b[43m(\u001b[49m\u001b[38;5;28;43minput\u001b[39;49m\u001b[43m)\u001b[49m\n\u001b[0;32m    218\u001b[0m     \u001b[38;5;28;01mreturn\u001b[39;00m \u001b[38;5;28minput\u001b[39m\n",
      "File \u001b[1;32mc:\\Users\\Carlos\\anaconda3\\envs\\ml\\Lib\\site-packages\\torch\\nn\\modules\\module.py:1501\u001b[0m, in \u001b[0;36mModule._call_impl\u001b[1;34m(self, *args, **kwargs)\u001b[0m\n\u001b[0;32m   1496\u001b[0m \u001b[38;5;66;03m# If we don't have any hooks, we want to skip the rest of the logic in\u001b[39;00m\n\u001b[0;32m   1497\u001b[0m \u001b[38;5;66;03m# this function, and just call forward.\u001b[39;00m\n\u001b[0;32m   1498\u001b[0m \u001b[38;5;28;01mif\u001b[39;00m \u001b[38;5;129;01mnot\u001b[39;00m (\u001b[38;5;28mself\u001b[39m\u001b[38;5;241m.\u001b[39m_backward_hooks \u001b[38;5;129;01mor\u001b[39;00m \u001b[38;5;28mself\u001b[39m\u001b[38;5;241m.\u001b[39m_backward_pre_hooks \u001b[38;5;129;01mor\u001b[39;00m \u001b[38;5;28mself\u001b[39m\u001b[38;5;241m.\u001b[39m_forward_hooks \u001b[38;5;129;01mor\u001b[39;00m \u001b[38;5;28mself\u001b[39m\u001b[38;5;241m.\u001b[39m_forward_pre_hooks\n\u001b[0;32m   1499\u001b[0m         \u001b[38;5;129;01mor\u001b[39;00m _global_backward_pre_hooks \u001b[38;5;129;01mor\u001b[39;00m _global_backward_hooks\n\u001b[0;32m   1500\u001b[0m         \u001b[38;5;129;01mor\u001b[39;00m _global_forward_hooks \u001b[38;5;129;01mor\u001b[39;00m _global_forward_pre_hooks):\n\u001b[1;32m-> 1501\u001b[0m     \u001b[38;5;28;01mreturn\u001b[39;00m \u001b[43mforward_call\u001b[49m\u001b[43m(\u001b[49m\u001b[38;5;241;43m*\u001b[39;49m\u001b[43margs\u001b[49m\u001b[43m,\u001b[49m\u001b[43m \u001b[49m\u001b[38;5;241;43m*\u001b[39;49m\u001b[38;5;241;43m*\u001b[39;49m\u001b[43mkwargs\u001b[49m\u001b[43m)\u001b[49m\n\u001b[0;32m   1502\u001b[0m \u001b[38;5;66;03m# Do not call functions when jit is used\u001b[39;00m\n\u001b[0;32m   1503\u001b[0m full_backward_hooks, non_full_backward_hooks \u001b[38;5;241m=\u001b[39m [], []\n",
      "File \u001b[1;32mc:\\Users\\Carlos\\anaconda3\\envs\\ml\\Lib\\site-packages\\torch\\nn\\modules\\linear.py:114\u001b[0m, in \u001b[0;36mLinear.forward\u001b[1;34m(self, input)\u001b[0m\n\u001b[0;32m    113\u001b[0m \u001b[38;5;28;01mdef\u001b[39;00m \u001b[38;5;21mforward\u001b[39m(\u001b[38;5;28mself\u001b[39m, \u001b[38;5;28minput\u001b[39m: Tensor) \u001b[38;5;241m-\u001b[39m\u001b[38;5;241m>\u001b[39m Tensor:\n\u001b[1;32m--> 114\u001b[0m     \u001b[38;5;28;01mreturn\u001b[39;00m \u001b[43mF\u001b[49m\u001b[38;5;241;43m.\u001b[39;49m\u001b[43mlinear\u001b[49m\u001b[43m(\u001b[49m\u001b[38;5;28;43minput\u001b[39;49m\u001b[43m,\u001b[49m\u001b[43m \u001b[49m\u001b[38;5;28;43mself\u001b[39;49m\u001b[38;5;241;43m.\u001b[39;49m\u001b[43mweight\u001b[49m\u001b[43m,\u001b[49m\u001b[43m \u001b[49m\u001b[38;5;28;43mself\u001b[39;49m\u001b[38;5;241;43m.\u001b[39;49m\u001b[43mbias\u001b[49m\u001b[43m)\u001b[49m\n",
      "\u001b[1;31mRuntimeError\u001b[0m: mat1 and mat2 shapes cannot be multiplied (1x1 and 6x256)"
     ]
    }
   ],
   "source": [
    "model.forward(th.Tensor([[0]]).to(device=device))"
   ]
  },
  {
   "cell_type": "code",
   "execution_count": 168,
   "metadata": {},
   "outputs": [
    {
     "data": {
      "text/plain": [
       "<matplotlib.collections.PathCollection at 0x15bc25b7250>"
      ]
     },
     "execution_count": 168,
     "metadata": {},
     "output_type": "execute_result"
    },
    {
     "data": {
      "image/png": "[encoded data removed]",
      "text/plain": [
       "<Figure size 640x480 with 1 Axes>"
      ]
     },
     "metadata": {},
     "output_type": "display_data"
    }
   ],
   "source": [
    "x = th.linspace(0, 0.002, 10000)\n",
    "y, pred = model.forward(x.unsqueeze(dim=1).to(device=device)).max(dim=1)\n",
    "y = y.detach().cpu().numpy()\n",
    "pred = pred.detach().cpu().numpy()\n",
    "plt.scatter(x, y, c=pred)\n",
    "\n",
    "    \n",
    "\n"
   ]
  },
  {
   "cell_type": "code",
   "execution_count": null,
   "metadata": {},
   "outputs": [],
   "source": []
  },
  {
   "cell_type": "code",
   "execution_count": 170,
   "metadata": {},
   "outputs": [
    {
     "data": {
      "text/plain": [
       "count    75223.000000\n",
       "mean         0.000242\n",
       "std          0.000281\n",
       "min          0.000000\n",
       "25%          0.000073\n",
       "50%          0.000165\n",
       "75%          0.000319\n",
       "max          0.008235\n",
       "Name: 15m_x5_0, dtype: float64"
      ]
     },
     "execution_count": 170,
     "metadata": {},
     "output_type": "execute_result"
    }
   ],
   "source": [
    "df[\"15m_x5_0\"].describe()"
   ]
  }
 ],
 "metadata": {
  "kernelspec": {
   "display_name": "ml",
   "language": "python",
   "name": "python3"
  },
  "language_info": {
   "codemirror_mode": {
    "name": "ipython",
    "version": 3
   },
   "file_extension": ".py",
   "mimetype": "text/x-python",
   "name": "python",
   "nbconvert_exporter": "python",
   "pygments_lexer": "ipython3",
   "version": "3.11.4"
  }
 },
 "nbformat": 4,
 "nbformat_minor": 2
}
